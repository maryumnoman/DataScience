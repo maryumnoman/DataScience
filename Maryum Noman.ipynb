{
 "cells": [
  {
   "cell_type": "code",
   "execution_count": 8,
   "id": "a49f7713",
   "metadata": {},
   "outputs": [
    {
     "name": "stdout",
     "output_type": "stream",
     "text": [
      "Twinkle, twinkle, little star,\n",
      "         How I wonder what you are!\n",
      "                Up above the world so high,\n",
      "                Like a diamond in the sky.\n",
      "Twinkle, twinkle, little star,\n",
      "         How I wonder what you are\n"
     ]
    }
   ],
   "source": [
    "print (\"Twinkle, twinkle, little star,\\n         How I wonder what you are!\\n                Up above the world so high,\\n                Like a diamond in the sky.\\nTwinkle, twinkle, little star,\\n         How I wonder what you are\");\n"
   ]
  },
  {
   "cell_type": "code",
   "execution_count": 6,
   "id": "f1a7b6f0",
   "metadata": {},
   "outputs": [
    {
     "name": "stdout",
     "output_type": "stream",
     "text": [
      "3.8.8 (default, Apr 13 2021, 15:08:03) [MSC v.1916 64 bit (AMD64)]\n"
     ]
    }
   ],
   "source": [
    "#2. Write a Python program to get the Python version you are using\n",
    "\n",
    "import sys\n",
    "print (sys.version) \n",
    "\n"
   ]
  },
  {
   "cell_type": "code",
   "execution_count": 2,
   "id": "b965f297",
   "metadata": {},
   "outputs": [
    {
     "name": "stdout",
     "output_type": "stream",
     "text": [
      "2021-12-31 18:52:16.184448\n"
     ]
    }
   ],
   "source": [
    "#3. Write a Python program to display the current date and time.\n",
    "\n",
    "import datetime\n",
    "\n",
    "x = datetime.datetime.now()\n",
    "print(x)\n"
   ]
  },
  {
   "cell_type": "code",
   "execution_count": 5,
   "id": "d6983b45",
   "metadata": {},
   "outputs": [
    {
     "name": "stdout",
     "output_type": "stream",
     "text": [
      "enter radius4\n",
      "area of circle is :  50.26548245743669\n"
     ]
    }
   ],
   "source": [
    "#4. program which accepts the radius of a circle from the user and compute the area.\n",
    "# in this program you can immmport the math fnuction which help you to add pi value like that\n",
    "\n",
    "import math\n",
    "radius=float(input(\"enter radius\"));\n",
    "area = math.pi *(radius*radius)\n",
    "print(\"area of circle is : \",area);  \n",
    "\n"
   ]
  },
  {
   "cell_type": "code",
   "execution_count": 4,
   "id": "725dc62e",
   "metadata": {},
   "outputs": [
    {
     "name": "stdout",
     "output_type": "stream",
     "text": [
      "enter first name aa\n",
      "enter last name bb\n",
      "aa bb\n"
     ]
    }
   ],
   "source": [
    "#5\n",
    "\n",
    "firstname=input(\"enter first name \")\n",
    "lastname=input(\"enter last name \")\n",
    "print(firstname+\" \"+lastname) \n"
   ]
  },
  {
   "cell_type": "code",
   "execution_count": 3,
   "id": "1f7aaa84",
   "metadata": {},
   "outputs": [
    {
     "name": "stdout",
     "output_type": "stream",
     "text": [
      "Enter input A  : 4\n",
      "Enter input B  : 7\n",
      "11\n"
     ]
    }
   ],
   "source": [
    "#6\n",
    "x=int(input(\"Enter input A  : \"));   \n",
    "y=int(input(\"Enter input B  : \"));  \n",
    "print(x+y);"
   ]
  },
  {
   "cell_type": "code",
   "execution_count": null,
   "id": "55f17b1b",
   "metadata": {},
   "outputs": [],
   "source": []
  }
 ],
 "metadata": {
  "kernelspec": {
   "display_name": "Python 3",
   "language": "python",
   "name": "python3"
  },
  "language_info": {
   "codemirror_mode": {
    "name": "ipython",
    "version": 3
   },
   "file_extension": ".py",
   "mimetype": "text/x-python",
   "name": "python",
   "nbconvert_exporter": "python",
   "pygments_lexer": "ipython3",
   "version": "3.8.8"
  }
 },
 "nbformat": 4,
 "nbformat_minor": 5
}
